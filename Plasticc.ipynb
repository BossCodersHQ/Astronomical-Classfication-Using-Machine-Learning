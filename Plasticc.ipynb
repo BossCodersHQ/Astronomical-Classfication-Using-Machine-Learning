{
 "cells": [
  {
   "cell_type": "code",
   "execution_count": 1,
   "metadata": {
    "collapsed": true
   },
   "outputs": [],
   "source": [
    "import pandas as pd\n",
    "import numpy as np"
   ]
  },
  {
   "cell_type": "code",
   "execution_count": 3,
   "metadata": {
    "collapsed": false,
    "scrolled": true
   },
   "outputs": [],
   "source": [
    "train_meta = pd.read_csv ('/modules/cs342/Assignment2/training_set_metadata.csv',header=0)\n",
    "test_meta = pd.read_csv('/modules/cs342/Assignment2/test_set_metadata.csv',header=0)"
   ]
  },
  {
   "cell_type": "code",
   "execution_count": null,
   "metadata": {
    "collapsed": false
   },
   "outputs": [],
   "source": [
    "arr = meta.loc[meta[\"hostgal_photoz\"] == 0.0].target.unique()\n",
    "galF=1.0/5.0\n",
    "exF = 1.0/9.0"
   ]
  },
  {
   "cell_type": "code",
   "execution_count": null,
   "metadata": {
    "collapsed": false,
    "scrolled": true
   },
   "outputs": [],
   "source": [
    "galObj = testSet.loc[testSet[\"hostgal_photoz\"] == 0.0].object_id.unique()\n",
    "extObj = testSet.loc[testSet[\"hostgal_photoz\"] != 0.0].object_id.unique()"
   ]
  },
  {
   "cell_type": "code",
   "execution_count": null,
   "metadata": {
    "collapsed": false,
    "scrolled": true
   },
   "outputs": [],
   "source": [
    "sss= ss.copy()\n",
    "\n",
    "classes = ss.columns.values.tolist()\n",
    "classes.remove(\"object_id\")\n",
    "galClass = [\"class_\" + str(cnum) for cnum in arr.tolist()]\n",
    "extClass = [x for x in classes if x not in galClass]\n",
    "extClass.remove(\"class_99\")"
   ]
  },
  {
   "cell_type": "code",
   "execution_count": null,
   "metadata": {
    "collapsed": false,
    "scrolled": false
   },
   "outputs": [],
   "source": [
    "extClass"
   ]
  },
  {
   "cell_type": "code",
   "execution_count": null,
   "metadata": {
    "collapsed": false,
    "scrolled": false
   },
   "outputs": [],
   "source": [
    "df1 = sss.loc[sss['object_id'].isin(galObj)]\n",
    "df1[galClass] = galF\n",
    "df1[\"class_90\"] = 0.0\n",
    "df2 = sss.loc[sss['object_id'].isin(extObj)]\n",
    "df2[extClass] = exF\n",
    "\n",
    "arr = [df1,df2]\n",
    "newDf = pd.concat(arr)\n",
    "newDf2 = newDf.copy()\n",
    "newDf3 = newDf.copy()\n",
    "\n",
    "newDf3[\"class_99\"] = 0.25\n",
    "newDf2[\"class_99\"] = 0.05\n",
    "newDf[\"class_99\"] = 0.2"
   ]
  },
  {
   "cell_type": "code",
   "execution_count": null,
   "metadata": {
    "collapsed": false
   },
   "outputs": [],
   "source": [
    "newDf.to_csv(\"test_prediction_splitGalactic2.csv\", index = False)\n",
    "newDf2.to_csv(\"test_prediction_splitGalactic3.csv\", index = False)\n",
    "newDf3.to_csv(\"test_prediction_splitGalactic4.csv\", index = False)"
   ]
  },
  {
   "cell_type": "code",
   "execution_count": null,
   "metadata": {
    "collapsed": true
   },
   "outputs": [],
   "source": []
  }
 ],
 "metadata": {
  "kernelspec": {
   "display_name": "Python 2",
   "language": "python",
   "name": "python2"
  },
  "language_info": {
   "codemirror_mode": {
    "name": "ipython",
    "version": 2
   },
   "file_extension": ".py",
   "mimetype": "text/x-python",
   "name": "python",
   "nbconvert_exporter": "python",
   "pygments_lexer": "ipython2",
   "version": "2.7.5"
  }
 },
 "nbformat": 4,
 "nbformat_minor": 0
}
