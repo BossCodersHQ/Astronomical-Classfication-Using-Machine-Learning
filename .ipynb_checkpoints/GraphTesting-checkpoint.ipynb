{
 "cells": [
  {
   "cell_type": "code",
   "execution_count": 1,
   "metadata": {
    "collapsed": false
   },
   "outputs": [],
   "source": [
    "import pandas as pd\n",
    "import numpy as np\n",
    "import matplotlib.pyplot as plt\n",
    "%matplotlib inline"
   ]
  },
  {
   "cell_type": "code",
   "execution_count": 8,
   "metadata": {
    "collapsed": true
   },
   "outputs": [],
   "source": [
    "test_meta = pd.read_csv('/modules/cs342/Assignment2/test_set_metadata.csv',header=0)\n",
    "train_meta = pd.read_csv('/modules/cs342/Assignment2/training_set_metadata.csv',header=0)\n",
    "train_data = pd.read_csv('/modules/cs342/Assignment2/training_set.csv',header=0)"
   ]
  },
  {
   "cell_type": "code",
   "execution_count": 3,
   "metadata": {
    "collapsed": false,
    "scrolled": false
   },
   "outputs": [],
   "source": [
    "classes = train_meta['target'].unique()"
   ]
  },
  {
   "cell_type": "code",
   "execution_count": 5,
   "metadata": {
    "collapsed": false,
    "scrolled": true
   },
   "outputs": [],
   "source": [
    "galactic_bool = test_meta[\"hostgal_photoz\"] == 0.0\n",
    "gal_slice = test_meta[galactic_bool]\n",
    "ex_gal_slice = test_meta[~galactic_bool]"
   ]
  },
  {
   "cell_type": "code",
   "execution_count": 6,
   "metadata": {
    "collapsed": false,
    "scrolled": true
   },
   "outputs": [],
   "source": [
    "numGalactic = gal_slice.shape[0]\n",
    "numExtra = ex_gal_slice.shape[0]"
   ]
  },
  {
   "cell_type": "code",
   "execution_count": 7,
   "metadata": {
    "collapsed": false
   },
   "outputs": [
    {
     "data": {
      "image/png": "[encoded data removed]",
      "text/plain": [
       "<matplotlib.figure.Figure at 0x7f6cfcf57b90>"
      ]
     },
     "metadata": {},
     "output_type": "display_data"
    }
   ],
   "source": [
    "plt.figure(figsize=(5, 3))\n",
    "plt.bar([\"Galactic\",\"Extra Galacatic\"],[numGalactic,numExtra])\n",
    "plt.gca().set_yscale(\"log\")\n",
    "plt.ylabel(\"Number of Objects\")\n",
    "plt.xlabel(\"Object Type\")\n",
    "plt.show()"
   ]
  },
  {
   "cell_type": "code",
   "execution_count": 58,
   "metadata": {
    "collapsed": false,
    "scrolled": false
   },
   "outputs": [],
   "source": [
    "def objectLcurve(objId):\n",
    "    pb = {0:\"u\",1:\"g\",2:\"r\",3:\"i\",4:\"z\",5:\"Y\"}\n",
    "    obj = train_data[train_data[\"object_id\"] == objId]\n",
    "    plt.figure(figsize=(8, 5))\n",
    "    plt.ylabel(\"Flux\")\n",
    "    plt.xlabel(\"Time\")\n",
    "    plt.title(\"Light Curve Object \" + str(objId))\n",
    "\n",
    "    for i in range(6):\n",
    "        temp = obj[obj[\"passband\"] == i]\n",
    "        plt.scatter(temp['mjd'],temp['flux'],marker='.',label=pb[i])\n",
    "    plt.legend(bbox_to_anchor=(1.05, 1), loc='upper left', borderaxespad=0.)"
   ]
  },
  {
   "cell_type": "code",
   "execution_count": 87,
   "metadata": {
    "collapsed": false
   },
   "outputs": [],
   "source": [
    "def classLcurve(classNum, numCurves):\n",
    "    cls = train_meta[train_meta[\"target\"] == classNum]\n",
    "    count= 0\n",
    "    for i in cls[\"object_id\"]:\n",
    "        if count == numCurves:\n",
    "            break\n",
    "        objectLcurve(i)\n",
    "        count+=1"
   ]
  },
  {
   "cell_type": "code",
   "execution_count": 100,
   "metadata": {
    "collapsed": false,
    "scrolled": true
   },
   "outputs": [
    {
     "data": {
      "text/plain": [
       "array([88, 42, 90, 67, 95, 62, 15, 52, 64])"
      ]
     },
     "execution_count": 100,
     "metadata": {},
     "output_type": "execute_result"
    }
   ],
   "source": [
    "train_meta[train_meta['hostgal_photoz'] != 0.0]['target'].unique()"
   ]
  },
  {
   "cell_type": "code",
   "execution_count": null,
   "metadata": {
    "collapsed": true
   },
   "outputs": [],
   "source": [
    "classLcurve"
   ]
  }
 ],
 "metadata": {
  "kernelspec": {
   "display_name": "Python 2",
   "language": "python",
   "name": "python2"
  },
  "language_info": {
   "codemirror_mode": {
    "name": "ipython",
    "version": 2
   },
   "file_extension": ".py",
   "mimetype": "text/x-python",
   "name": "python",
   "nbconvert_exporter": "python",
   "pygments_lexer": "ipython2",
   "version": "2.7.5"
  }
 },
 "nbformat": 4,
 "nbformat_minor": 0
}
