{
 "cells": [
  {
   "cell_type": "code",
   "execution_count": 8,
   "metadata": {
    "collapsed": true
   },
   "outputs": [],
   "source": [
    "import pandas as pd\n",
    "import numpy as np\n",
    "\n",
    "meta = pd.read_csv ('/modules/cs342/Assignment2/training_set_metadata.csv',header=0)\n",
    "ss = pd.read_csv('/modules/cs342/Assignment2/sample_submission.csv',header=0)"
   ]
  },
  {
   "cell_type": "code",
   "execution_count": 151,
   "metadata": {
    "collapsed": false,
    "scrolled": true
   },
   "outputs": [],
   "source": [
    "arr = meta.loc[meta[\"hostgal_photoz\"] == 0.0].target.unique()\n",
    "galF=1.0/5.0\n",
    "exF = 1.0/10.0"
   ]
  },
  {
   "cell_type": "code",
   "execution_count": 143,
   "metadata": {
    "collapsed": false
   },
   "outputs": [],
   "source": [
    "testSet = pd.read_csv('/modules/cs342/Assignment2/test_set_metadata.csv',header=0)"
   ]
  },
  {
   "cell_type": "code",
   "execution_count": 144,
   "metadata": {
    "collapsed": false,
    "scrolled": true
   },
   "outputs": [],
   "source": [
    "galObj = testSet.loc[testSet[\"hostgal_photoz\"] == 0.0].object_id.unique()\n",
    "extObj = testSet.loc[testSet[\"hostgal_photoz\"] != 0.0].object_id.unique()"
   ]
  },
  {
   "cell_type": "code",
   "execution_count": 165,
   "metadata": {
    "collapsed": false,
    "scrolled": true
   },
   "outputs": [],
   "source": [
    "sss= ss.copy()\n",
    "\n",
    "classes = ss.columns.values.tolist()\n",
    "classes.remove(\"object_id\")\n",
    "galClass = [\"class_\" + str(cnum) for cnum in arr.tolist()]\n",
    "extClass = [x for x in classes if x not in galClass]\n",
    "\n",
    "df1 = sss.loc[sss['object_id'].isin(galObj)]\n",
    "df1[galClass] = galF\n",
    "\n"
   ]
  },
  {
   "cell_type": "code",
   "execution_count": 166,
   "metadata": {
    "collapsed": false,
    "scrolled": true
   },
   "outputs": [
    {
     "data": {
      "text/plain": [
       "0          False\n",
       "1          False\n",
       "2          False\n",
       "3          False\n",
       "4          False\n",
       "5          False\n",
       "6          False\n",
       "7          False\n",
       "8          False\n",
       "9          False\n",
       "10         False\n",
       "11         False\n",
       "12         False\n",
       "13         False\n",
       "14         False\n",
       "15         False\n",
       "16         False\n",
       "17         False\n",
       "18         False\n",
       "19         False\n",
       "20          True\n",
       "21         False\n",
       "22         False\n",
       "23         False\n",
       "24         False\n",
       "25         False\n",
       "26         False\n",
       "27         False\n",
       "28         False\n",
       "29         False\n",
       "           ...  \n",
       "3492860    False\n",
       "3492861    False\n",
       "3492862    False\n",
       "3492863    False\n",
       "3492864     True\n",
       "3492865    False\n",
       "3492866    False\n",
       "3492867    False\n",
       "3492868     True\n",
       "3492869    False\n",
       "3492870    False\n",
       "3492871    False\n",
       "3492872     True\n",
       "3492873    False\n",
       "3492874    False\n",
       "3492875    False\n",
       "3492876    False\n",
       "3492877    False\n",
       "3492878    False\n",
       "3492879     True\n",
       "3492880    False\n",
       "3492881     True\n",
       "3492882     True\n",
       "3492883    False\n",
       "3492884    False\n",
       "3492885    False\n",
       "3492886    False\n",
       "3492887    False\n",
       "3492888    False\n",
       "3492889    False\n",
       "Name: object_id, dtype: bool"
      ]
     },
     "execution_count": 166,
     "metadata": {},
     "output_type": "execute_result"
    }
   ],
   "source": [
    "df1"
   ]
  },
  {
   "cell_type": "code",
   "execution_count": 130,
   "metadata": {
    "collapsed": false,
    "scrolled": false
   },
   "outputs": [
    {
     "name": "stdout",
     "output_type": "stream",
     "text": [
      "[      168      1063      2270 ..., 130787879 130787903 130787932]\n"
     ]
    }
   ],
   "source": [
    "print galObj"
   ]
  },
  {
   "cell_type": "code",
   "execution_count": null,
   "metadata": {
    "collapsed": true
   },
   "outputs": [],
   "source": []
  }
 ],
 "metadata": {
  "kernelspec": {
   "display_name": "Python 2",
   "language": "python",
   "name": "python2"
  }
 },
 "nbformat": 4,
 "nbformat_minor": 0
}
